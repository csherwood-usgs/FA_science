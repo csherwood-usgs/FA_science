{
 "cells": [
  {
   "cell_type": "code",
   "execution_count": 2,
   "id": "cfcf72a0-225d-4de9-9c96-94429aa533a5",
   "metadata": {},
   "outputs": [],
   "source": [
    "import numpy as np\n",
    "import matplotlib.pyplot as plt"
   ]
  },
  {
   "cell_type": "markdown",
   "id": "6a020407-9204-4b92-860e-bb265835f4a4",
   "metadata": {},
   "source": [
    "### Introduction to sine curves\n",
    "This cell is a \"markdown\" cell that allows us to make notes using simple formatting"
   ]
  },
  {
   "cell_type": "code",
   "execution_count": 4,
   "id": "5633e7d5-995e-4f35-9e4f-d23ec38e7300",
   "metadata": {},
   "outputs": [
    {
     "name": "stdout",
     "output_type": "stream",
     "text": [
      "[0.0000e+00 1.0000e+00 2.0000e+00 ... 1.4398e+04 1.4399e+04 1.4400e+04]\n"
     ]
    }
   ],
   "source": [
    "# make an array of seconds from zero to total time\n",
    "t = np.arange( 0., total_time+1 )\n",
    "print(t)"
   ]
  },
  {
   "cell_type": "markdown",
   "id": "d20fbbcb-f9e0-405e-9efc-d67b3d43cc55",
   "metadata": {},
   "source": [
    "### Angular frequency\n",
    "angular frequency is how many rotations occur in a given time.\n",
    "\n",
    "Lets say we want one rotation is some *period* of time, called `T`  \n",
    "We need one rotation per `T`, so 360 degrees. Our angular frequency is 360/T.  \n",
    "If we measure time in seconds, the angular frequency has units of degrees/second.  \n",
    "\n",
    "Lets say we want a period of 100 seconds. Then our angular frequency is 360/100.  \n",
    "Using that angular frequency, we can see how much rotation we have after 1 second, 10, seconds, 50 seconds, and 100 seconds:  "
   ]
  },
  {
   "cell_type": "code",
   "execution_count": 7,
   "id": "0fa117b5-35ef-4158-bd38-fac0ba7f8356",
   "metadata": {},
   "outputs": [
    {
     "name": "stdout",
     "output_type": "stream",
     "text": [
      "After 1 second: 3.6 degrees\n",
      "After 10 seconds: 36.0 degrees\n",
      "After 50 seconds: 180.0 degrees\n",
      "After 100 seconds: 360.0 degrees\n"
     ]
    }
   ],
   "source": [
    "print('After 1 second:', 1 * 360/100,'degrees' )\n",
    "print('After 10 seconds:', 10 * 360/100,'degrees' )\n",
    "print('After 50 seconds:', 50 * 360/100,'degrees' )\n",
    "print('After 100 seconds:', 100 * 360/100,'degrees' )"
   ]
  },
  {
   "cell_type": "markdown",
   "id": "6dc7c946-1d98-4b9a-958f-8d78622fb77d",
   "metadata": {},
   "source": [
    "### Angular frequency in radians\n",
    "Degrees are one way to measure angles, and radians are the other.  \n",
    "One whole rotation (360 degrees) is the same as 2$\\pi$ radians  \n",
    "To convert degrees to radians, multiply degrees by 2$\\pi$/360  \n",
    "To convert radians to degrees, multiply radians by 360/2$\\pi$  \n",
    "\n",
    "### Why radians?\n",
    "Because trig functions like sine and cosine operate on radians.  \n",
    "\n",
    "### What is the point of all of this?\n",
    "We want to make a curve that goes up and down...so if we have a continuous sequence of angles and calculate their sine, we get a wavy curve.  \n",
    "\n",
    "### Here are the steps:\n",
    "1) Make a time sequence of many seconds\n",
    "2) Use the angular frequency to convert time to degrees of rotation\n",
    "3) Convert the degrees to radians\n",
    "4) Compute the sine for each time\n",
    "5) Plot the curve"
   ]
  },
  {
   "cell_type": "code",
   "execution_count": null,
   "id": "68a91170-5afa-49c2-b89a-932f709f7da8",
   "metadata": {},
   "outputs": [],
   "source": [
    "# Step 1. Make a time sequence\n",
    "# our time series will be four hours long\n",
    "# 4 hours * 60 minute/hour * 60 seconds/ minute\n",
    "total_time = 4.*60.*60\n",
    "print(total_time)"
   ]
  },
  {
   "cell_type": "code",
   "execution_count": null,
   "id": "5988f1c2-3568-477b-9c70-9b7596c6de5b",
   "metadata": {},
   "outputs": [],
   "source": [
    "# make an array of seconds from zero to total time\n",
    "t = np.arange( 0., total_time+1 )\n",
    "print(t)"
   ]
  },
  {
   "cell_type": "code",
   "execution_count": 8,
   "id": "9169a0ef-369e-414b-942b-34d90847351c",
   "metadata": {},
   "outputs": [
    {
     "name": "stdout",
     "output_type": "stream",
     "text": [
      "Time 0:  0.0\n",
      "Time 10:  10.0\n",
      "Time 50:  50.0\n",
      "Time 100:  100.0\n"
     ]
    }
   ],
   "source": [
    "# We can print each of the times separately by using an \"index\" into the time series\n",
    "print('Time 0: ',t[0])\n",
    "print('Time 10: ',t[10])\n",
    "print('Time 50: ',t[50])\n",
    "print('Time 100: ',t[100])"
   ]
  }
 ],
 "metadata": {
  "kernelspec": {
   "display_name": "Python 3 (ipykernel)",
   "language": "python",
   "name": "python3"
  },
  "language_info": {
   "codemirror_mode": {
    "name": "ipython",
    "version": 3
   },
   "file_extension": ".py",
   "mimetype": "text/x-python",
   "name": "python",
   "nbconvert_exporter": "python",
   "pygments_lexer": "ipython3",
   "version": "3.10.15"
  }
 },
 "nbformat": 4,
 "nbformat_minor": 5
}
