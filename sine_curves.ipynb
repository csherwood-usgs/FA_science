{
 "cells": [
  {
   "cell_type": "code",
   "execution_count": 1,
   "id": "cfcf72a0-225d-4de9-9c96-94429aa533a5",
   "metadata": {},
   "outputs": [],
   "source": [
    "import numpy as np\n",
    "import matplotlib.pyplot as plt"
   ]
  },
  {
   "cell_type": "markdown",
   "id": "6a020407-9204-4b92-860e-bb265835f4a4",
   "metadata": {},
   "source": [
    "### Introduction to sine curves\n",
    "This cell is a \"markdown\" cell that allows us to make notes using simple formatting"
   ]
  },
  {
   "cell_type": "markdown",
   "id": "d20fbbcb-f9e0-405e-9efc-d67b3d43cc55",
   "metadata": {},
   "source": [
    "### Angular frequency\n",
    "angular frequency is how many rotations occur in a given time.\n",
    "\n",
    "Lets say we want one rotation is some *period* of time, called `T`  \n",
    "We need one rotation per `T`, so 360 degrees. Our angular frequency is 360/T.  \n",
    "If we measure time in seconds, the angular frequency has units of degrees/second.  \n",
    "\n",
    "Lets say we want a period of 100 seconds. Then our angular frequency is 360/100.  \n",
    "Using that angular frequency, we can see how much rotation we have after 1 second, 10, seconds, 50 seconds, and 100 seconds:  "
   ]
  },
  {
   "cell_type": "code",
   "execution_count": 2,
   "id": "0fa117b5-35ef-4158-bd38-fac0ba7f8356",
   "metadata": {},
   "outputs": [
    {
     "name": "stdout",
     "output_type": "stream",
     "text": [
      "After 1 second: 3.6 degrees\n",
      "After 10 seconds: 36.0 degrees\n",
      "After 50 seconds: 180.0 degrees\n",
      "After 100 seconds: 360.0 degrees\n"
     ]
    }
   ],
   "source": [
    "print('After 1 second:', 1 * 360/100,'degrees' )\n",
    "print('After 10 seconds:', 10 * 360/100,'degrees' )\n",
    "print('After 50 seconds:', 50 * 360/100,'degrees' )\n",
    "print('After 100 seconds:', 100 * 360/100,'degrees' )"
   ]
  },
  {
   "cell_type": "markdown",
   "id": "6dc7c946-1d98-4b9a-958f-8d78622fb77d",
   "metadata": {},
   "source": [
    "### Angular frequency in radians\n",
    "Degrees are one way to measure angles, and radians are the other.  \n",
    "One whole rotation (360 degrees) is the same as 2$\\pi$ radians  \n",
    "To convert degrees to radians, multiply degrees by 2$\\pi$/360  \n",
    "To convert radians to degrees, multiply radians by 360/2$\\pi$  \n",
    "\n",
    "### Why radians?\n",
    "Because trig functions like sine and cosine operate on radians.  \n",
    "\n",
    "### What is the point of all of this?\n",
    "We want to make a curve that goes up and down...so if we have a continuous sequence of angles and calculate their sine, we get a wavy curve.  \n",
    "\n",
    "### Here are the steps:\n",
    "1) Make a time sequence of many seconds\n",
    "2) Use the angular frequency to convert time to degrees of rotation\n",
    "3) Convert the degrees to radians\n",
    "4) Compute the sine for each time\n",
    "5) Plot the curve"
   ]
  },
  {
   "cell_type": "code",
   "execution_count": 3,
   "id": "68a91170-5afa-49c2-b89a-932f709f7da8",
   "metadata": {},
   "outputs": [
    {
     "name": "stdout",
     "output_type": "stream",
     "text": [
      "500\n"
     ]
    }
   ],
   "source": [
    "# Step 1. Make a time sequence\n",
    "# our time series will be 500 seconds long\n",
    "total_time = 500\n",
    "print(total_time)"
   ]
  },
  {
   "cell_type": "code",
   "execution_count": 4,
   "id": "5988f1c2-3568-477b-9c70-9b7596c6de5b",
   "metadata": {},
   "outputs": [
    {
     "name": "stdout",
     "output_type": "stream",
     "text": [
      "[  0.   1.   2.   3.   4.   5.   6.   7.   8.   9.  10.  11.  12.  13.\n",
      "  14.  15.  16.  17.  18.  19.  20.  21.  22.  23.  24.  25.  26.  27.\n",
      "  28.  29.  30.  31.  32.  33.  34.  35.  36.  37.  38.  39.  40.  41.\n",
      "  42.  43.  44.  45.  46.  47.  48.  49.  50.  51.  52.  53.  54.  55.\n",
      "  56.  57.  58.  59.  60.  61.  62.  63.  64.  65.  66.  67.  68.  69.\n",
      "  70.  71.  72.  73.  74.  75.  76.  77.  78.  79.  80.  81.  82.  83.\n",
      "  84.  85.  86.  87.  88.  89.  90.  91.  92.  93.  94.  95.  96.  97.\n",
      "  98.  99. 100. 101. 102. 103. 104. 105. 106. 107. 108. 109. 110. 111.\n",
      " 112. 113. 114. 115. 116. 117. 118. 119. 120. 121. 122. 123. 124. 125.\n",
      " 126. 127. 128. 129. 130. 131. 132. 133. 134. 135. 136. 137. 138. 139.\n",
      " 140. 141. 142. 143. 144. 145. 146. 147. 148. 149. 150. 151. 152. 153.\n",
      " 154. 155. 156. 157. 158. 159. 160. 161. 162. 163. 164. 165. 166. 167.\n",
      " 168. 169. 170. 171. 172. 173. 174. 175. 176. 177. 178. 179. 180. 181.\n",
      " 182. 183. 184. 185. 186. 187. 188. 189. 190. 191. 192. 193. 194. 195.\n",
      " 196. 197. 198. 199. 200. 201. 202. 203. 204. 205. 206. 207. 208. 209.\n",
      " 210. 211. 212. 213. 214. 215. 216. 217. 218. 219. 220. 221. 222. 223.\n",
      " 224. 225. 226. 227. 228. 229. 230. 231. 232. 233. 234. 235. 236. 237.\n",
      " 238. 239. 240. 241. 242. 243. 244. 245. 246. 247. 248. 249. 250. 251.\n",
      " 252. 253. 254. 255. 256. 257. 258. 259. 260. 261. 262. 263. 264. 265.\n",
      " 266. 267. 268. 269. 270. 271. 272. 273. 274. 275. 276. 277. 278. 279.\n",
      " 280. 281. 282. 283. 284. 285. 286. 287. 288. 289. 290. 291. 292. 293.\n",
      " 294. 295. 296. 297. 298. 299. 300. 301. 302. 303. 304. 305. 306. 307.\n",
      " 308. 309. 310. 311. 312. 313. 314. 315. 316. 317. 318. 319. 320. 321.\n",
      " 322. 323. 324. 325. 326. 327. 328. 329. 330. 331. 332. 333. 334. 335.\n",
      " 336. 337. 338. 339. 340. 341. 342. 343. 344. 345. 346. 347. 348. 349.\n",
      " 350. 351. 352. 353. 354. 355. 356. 357. 358. 359. 360. 361. 362. 363.\n",
      " 364. 365. 366. 367. 368. 369. 370. 371. 372. 373. 374. 375. 376. 377.\n",
      " 378. 379. 380. 381. 382. 383. 384. 385. 386. 387. 388. 389. 390. 391.\n",
      " 392. 393. 394. 395. 396. 397. 398. 399. 400. 401. 402. 403. 404. 405.\n",
      " 406. 407. 408. 409. 410. 411. 412. 413. 414. 415. 416. 417. 418. 419.\n",
      " 420. 421. 422. 423. 424. 425. 426. 427. 428. 429. 430. 431. 432. 433.\n",
      " 434. 435. 436. 437. 438. 439. 440. 441. 442. 443. 444. 445. 446. 447.\n",
      " 448. 449. 450. 451. 452. 453. 454. 455. 456. 457. 458. 459. 460. 461.\n",
      " 462. 463. 464. 465. 466. 467. 468. 469. 470. 471. 472. 473. 474. 475.\n",
      " 476. 477. 478. 479. 480. 481. 482. 483. 484. 485. 486. 487. 488. 489.\n",
      " 490. 491. 492. 493. 494. 495. 496. 497. 498. 499. 500.]\n"
     ]
    }
   ],
   "source": [
    "# make an array of seconds from zero to total time\n",
    "t = np.arange( 0., total_time+1 )\n",
    "print(t)"
   ]
  },
  {
   "cell_type": "code",
   "execution_count": 5,
   "id": "9169a0ef-369e-414b-942b-34d90847351c",
   "metadata": {},
   "outputs": [
    {
     "name": "stdout",
     "output_type": "stream",
     "text": [
      "Time 0:  0.0\n",
      "Time 10:  10.0\n",
      "Time 50:  50.0\n",
      "Time 100:  100.0\n"
     ]
    }
   ],
   "source": [
    "# We can print each of the times separately by using an \"index\" into the time series\n",
    "print('Time 0: ',t[0])\n",
    "print('Time 10: ',t[10])\n",
    "print('Time 50: ',t[50])\n",
    "print('Time 100: ',t[100])"
   ]
  },
  {
   "cell_type": "code",
   "execution_count": 6,
   "id": "24be272c-4400-4d77-960d-a4f9bbad1c82",
   "metadata": {},
   "outputs": [
    {
     "name": "stdout",
     "output_type": "stream",
     "text": [
      "Time 0:  0.0\n",
      "Time 10:  36.0\n",
      "Time 50:  180.0\n",
      "Time 100:  360.0\n"
     ]
    }
   ],
   "source": [
    "# And we can calculate amount of rotation for each of those times as\n",
    "# time * angular frequency\n",
    "\n",
    "# define a variable for the period\n",
    "T = 100.\n",
    "\n",
    "# calculate the angular freqency in degress\n",
    "angd = 360./T\n",
    "print( 'Time 0: ',t[0] * angd )\n",
    "print( 'Time 10: ',t[10] * angd )\n",
    "print( 'Time 50: ',t[50] * angd )\n",
    "print( 'Time 100: ',t[100] * angd )"
   ]
  },
  {
   "cell_type": "code",
   "execution_count": 7,
   "id": "7fe566c7-99c3-48d4-af39-8be2b685cb6d",
   "metadata": {},
   "outputs": [
    {
     "name": "stdout",
     "output_type": "stream",
     "text": [
      "3.141592653589793\n"
     ]
    }
   ],
   "source": [
    "# And we can convert that the angular frequncey to radians and print the values\n",
    "# First we need the value of pi, which we get from a constant in the numpy package\n",
    "print( np.pi )"
   ]
  },
  {
   "cell_type": "code",
   "execution_count": 8,
   "id": "87b9aa7b-b687-406b-9c06-d4a68a96a6c0",
   "metadata": {},
   "outputs": [
    {
     "name": "stdout",
     "output_type": "stream",
     "text": [
      "angd: 3.6\n",
      "angr: 0.06283185307179587\n"
     ]
    }
   ],
   "source": [
    "# Lets use that to convert angular frequency to radians\n",
    "angr = (2 * np.pi / 360.) * angd\n",
    "print('angd:', angd )\n",
    "print('angr:', angr )"
   ]
  },
  {
   "cell_type": "code",
   "execution_count": 9,
   "id": "12cc7294-10b5-4212-9c07-07d4d71069f8",
   "metadata": {},
   "outputs": [
    {
     "name": "stdout",
     "output_type": "stream",
     "text": [
      "Time 0:  0.0\n",
      "Time 10:  0.6283185307179586\n",
      "Time 50:  3.1415926535897936\n",
      "Time 100:  6.283185307179587\n"
     ]
    }
   ],
   "source": [
    "# print out our angles again, in radians\n",
    "print( 'Time 0: ',t[0] * angr )\n",
    "print( 'Time 10: ',t[10] * angr )\n",
    "print( 'Time 50: ',t[50] * angr )\n",
    "print( 'Time 100: ',t[100] * angr )"
   ]
  },
  {
   "cell_type": "code",
   "execution_count": 10,
   "id": "2f36e957-8ac4-4196-a1b1-f56c50f960a0",
   "metadata": {},
   "outputs": [
    {
     "name": "stdout",
     "output_type": "stream",
     "text": [
      "Time 0:  0.0\n",
      "Time 10:  0.5877852522924731\n",
      "Time 50:  -3.216245299353273e-16\n",
      "Time 100:  6.432490598706546e-16\n"
     ]
    }
   ],
   "source": [
    "# And print out the sine of those angles, using the numpy sine function\n",
    "print( 'Time 0: ', np.sin ( t[0] * angr ) )\n",
    "print( 'Time 10: ', np.sin ( t[10] * angr ) )\n",
    "print( 'Time 50: ', np.sin ( t[50] * angr ) )\n",
    "print( 'Time 100: ', np.sin ( t[100] * angr ) )"
   ]
  },
  {
   "cell_type": "code",
   "execution_count": 11,
   "id": "43690a97-9b72-4a90-8689-2e02bb4b3902",
   "metadata": {},
   "outputs": [
    {
     "name": "stdout",
     "output_type": "stream",
     "text": [
      "[ 0.00000000e+00  6.27905195e-02  1.25333234e-01  1.87381315e-01\n",
      "  2.48689887e-01  3.09016994e-01  3.68124553e-01  4.25779292e-01\n",
      "  4.81753674e-01  5.35826795e-01  5.87785252e-01  6.37423990e-01\n",
      "  6.84547106e-01  7.28968627e-01  7.70513243e-01  8.09016994e-01\n",
      "  8.44327926e-01  8.76306680e-01  9.04827052e-01  9.29776486e-01\n",
      "  9.51056516e-01  9.68583161e-01  9.82287251e-01  9.92114701e-01\n",
      "  9.98026728e-01  1.00000000e+00  9.98026728e-01  9.92114701e-01\n",
      "  9.82287251e-01  9.68583161e-01  9.51056516e-01  9.29776486e-01\n",
      "  9.04827052e-01  8.76306680e-01  8.44327926e-01  8.09016994e-01\n",
      "  7.70513243e-01  7.28968627e-01  6.84547106e-01  6.37423990e-01\n",
      "  5.87785252e-01  5.35826795e-01  4.81753674e-01  4.25779292e-01\n",
      "  3.68124553e-01  3.09016994e-01  2.48689887e-01  1.87381315e-01\n",
      "  1.25333234e-01  6.27905195e-02 -3.21624530e-16 -6.27905195e-02\n",
      " -1.25333234e-01 -1.87381315e-01 -2.48689887e-01 -3.09016994e-01\n",
      " -3.68124553e-01 -4.25779292e-01 -4.81753674e-01 -5.35826795e-01\n",
      " -5.87785252e-01 -6.37423990e-01 -6.84547106e-01 -7.28968627e-01\n",
      " -7.70513243e-01 -8.09016994e-01 -8.44327926e-01 -8.76306680e-01\n",
      " -9.04827052e-01 -9.29776486e-01 -9.51056516e-01 -9.68583161e-01\n",
      " -9.82287251e-01 -9.92114701e-01 -9.98026728e-01 -1.00000000e+00\n",
      " -9.98026728e-01 -9.92114701e-01 -9.82287251e-01 -9.68583161e-01\n",
      " -9.51056516e-01 -9.29776486e-01 -9.04827052e-01 -8.76306680e-01\n",
      " -8.44327926e-01 -8.09016994e-01 -7.70513243e-01 -7.28968627e-01\n",
      " -6.84547106e-01 -6.37423990e-01 -5.87785252e-01 -5.35826795e-01\n",
      " -4.81753674e-01 -4.25779292e-01 -3.68124553e-01 -3.09016994e-01\n",
      " -2.48689887e-01 -1.87381315e-01 -1.25333234e-01 -6.27905195e-02\n",
      "  6.43249060e-16  6.27905195e-02  1.25333234e-01  1.87381315e-01\n",
      "  2.48689887e-01  3.09016994e-01  3.68124553e-01  4.25779292e-01\n",
      "  4.81753674e-01  5.35826795e-01  5.87785252e-01  6.37423990e-01\n",
      "  6.84547106e-01  7.28968627e-01  7.70513243e-01  8.09016994e-01\n",
      "  8.44327926e-01  8.76306680e-01  9.04827052e-01  9.29776486e-01\n",
      "  9.51056516e-01  9.68583161e-01  9.82287251e-01  9.92114701e-01\n",
      "  9.98026728e-01  1.00000000e+00  9.98026728e-01  9.92114701e-01\n",
      "  9.82287251e-01  9.68583161e-01  9.51056516e-01  9.29776486e-01\n",
      "  9.04827052e-01  8.76306680e-01  8.44327926e-01  8.09016994e-01\n",
      "  7.70513243e-01  7.28968627e-01  6.84547106e-01  6.37423990e-01\n",
      "  5.87785252e-01  5.35826795e-01  4.81753674e-01  4.25779292e-01\n",
      "  3.68124553e-01  3.09016994e-01  2.48689887e-01  1.87381315e-01\n",
      "  1.25333234e-01  6.27905195e-02  3.67394040e-16 -6.27905195e-02\n",
      " -1.25333234e-01 -1.87381315e-01 -2.48689887e-01 -3.09016994e-01\n",
      " -3.68124553e-01 -4.25779292e-01 -4.81753674e-01 -5.35826795e-01\n",
      " -5.87785252e-01 -6.37423990e-01 -6.84547106e-01 -7.28968627e-01\n",
      " -7.70513243e-01 -8.09016994e-01 -8.44327926e-01 -8.76306680e-01\n",
      " -9.04827052e-01 -9.29776486e-01 -9.51056516e-01 -9.68583161e-01\n",
      " -9.82287251e-01 -9.92114701e-01 -9.98026728e-01 -1.00000000e+00\n",
      " -9.98026728e-01 -9.92114701e-01 -9.82287251e-01 -9.68583161e-01\n",
      " -9.51056516e-01 -9.29776486e-01 -9.04827052e-01 -8.76306680e-01\n",
      " -8.44327926e-01 -8.09016994e-01 -7.70513243e-01 -7.28968627e-01\n",
      " -6.84547106e-01 -6.37423990e-01 -5.87785252e-01 -5.35826795e-01\n",
      " -4.81753674e-01 -4.25779292e-01 -3.68124553e-01 -3.09016994e-01\n",
      " -2.48689887e-01 -1.87381315e-01 -1.25333234e-01 -6.27905195e-02\n",
      "  1.28649812e-15  6.27905195e-02  1.25333234e-01  1.87381315e-01\n",
      "  2.48689887e-01  3.09016994e-01  3.68124553e-01  4.25779292e-01\n",
      "  4.81753674e-01  5.35826795e-01  5.87785252e-01  6.37423990e-01\n",
      "  6.84547106e-01  7.28968627e-01  7.70513243e-01  8.09016994e-01\n",
      "  8.44327926e-01  8.76306680e-01  9.04827052e-01  9.29776486e-01\n",
      "  9.51056516e-01  9.68583161e-01  9.82287251e-01  9.92114701e-01\n",
      "  9.98026728e-01  1.00000000e+00  9.98026728e-01  9.92114701e-01\n",
      "  9.82287251e-01  9.68583161e-01  9.51056516e-01  9.29776486e-01\n",
      "  9.04827052e-01  8.76306680e-01  8.44327926e-01  8.09016994e-01\n",
      "  7.70513243e-01  7.28968627e-01  6.84547106e-01  6.37423990e-01\n",
      "  5.87785252e-01  5.35826795e-01  4.81753674e-01  4.25779292e-01\n",
      "  3.68124553e-01  3.09016994e-01  2.48689887e-01  1.87381315e-01\n",
      "  1.25333234e-01  6.27905195e-02 -1.16403344e-15 -6.27905195e-02\n",
      " -1.25333234e-01 -1.87381315e-01 -2.48689887e-01 -3.09016994e-01\n",
      " -3.68124553e-01 -4.25779292e-01 -4.81753674e-01 -5.35826795e-01\n",
      " -5.87785252e-01 -6.37423990e-01 -6.84547106e-01 -7.28968627e-01\n",
      " -7.70513243e-01 -8.09016994e-01 -8.44327926e-01 -8.76306680e-01\n",
      " -9.04827052e-01 -9.29776486e-01 -9.51056516e-01 -9.68583161e-01\n",
      " -9.82287251e-01 -9.92114701e-01 -9.98026728e-01 -1.00000000e+00\n",
      " -9.98026728e-01 -9.92114701e-01 -9.82287251e-01 -9.68583161e-01\n",
      " -9.51056516e-01 -9.29776486e-01 -9.04827052e-01 -8.76306680e-01\n",
      " -8.44327926e-01 -8.09016994e-01 -7.70513243e-01 -7.28968627e-01\n",
      " -6.84547106e-01 -6.37423990e-01 -5.87785252e-01 -5.35826795e-01\n",
      " -4.81753674e-01 -4.25779292e-01 -3.68124553e-01 -3.09016994e-01\n",
      " -2.48689887e-01 -1.87381315e-01 -1.25333234e-01 -6.27905195e-02\n",
      " -7.34788079e-16  6.27905195e-02  1.25333234e-01  1.87381315e-01\n",
      "  2.48689887e-01  3.09016994e-01  3.68124553e-01  4.25779292e-01\n",
      "  4.81753674e-01  5.35826795e-01  5.87785252e-01  6.37423990e-01\n",
      "  6.84547106e-01  7.28968627e-01  7.70513243e-01  8.09016994e-01\n",
      "  8.44327926e-01  8.76306680e-01  9.04827052e-01  9.29776486e-01\n",
      "  9.51056516e-01  9.68583161e-01  9.82287251e-01  9.92114701e-01\n",
      "  9.98026728e-01  1.00000000e+00  9.98026728e-01  9.92114701e-01\n",
      "  9.82287251e-01  9.68583161e-01  9.51056516e-01  9.29776486e-01\n",
      "  9.04827052e-01  8.76306680e-01  8.44327926e-01  8.09016994e-01\n",
      "  7.70513243e-01  7.28968627e-01  6.84547106e-01  6.37423990e-01\n",
      "  5.87785252e-01  5.35826795e-01  4.81753674e-01  4.25779292e-01\n",
      "  3.68124553e-01  3.09016994e-01  2.48689887e-01  1.87381315e-01\n",
      "  1.25333234e-01  6.27905195e-02 -2.69546092e-15 -6.27905195e-02\n",
      " -1.25333234e-01 -1.87381315e-01 -2.48689887e-01 -3.09016994e-01\n",
      " -3.68124553e-01 -4.25779292e-01 -4.81753674e-01 -5.35826795e-01\n",
      " -5.87785252e-01 -6.37423990e-01 -6.84547106e-01 -7.28968627e-01\n",
      " -7.70513243e-01 -8.09016994e-01 -8.44327926e-01 -8.76306680e-01\n",
      " -9.04827052e-01 -9.29776486e-01 -9.51056516e-01 -9.68583161e-01\n",
      " -9.82287251e-01 -9.92114701e-01 -9.98026728e-01 -1.00000000e+00\n",
      " -9.98026728e-01 -9.92114701e-01 -9.82287251e-01 -9.68583161e-01\n",
      " -9.51056516e-01 -9.29776486e-01 -9.04827052e-01 -8.76306680e-01\n",
      " -8.44327926e-01 -8.09016994e-01 -7.70513243e-01 -7.28968627e-01\n",
      " -6.84547106e-01 -6.37423990e-01 -5.87785252e-01 -5.35826795e-01\n",
      " -4.81753674e-01 -4.25779292e-01 -3.68124553e-01 -3.09016994e-01\n",
      " -2.48689887e-01 -1.87381315e-01 -1.25333234e-01 -6.27905195e-02\n",
      "  2.57299624e-15  6.27905195e-02  1.25333234e-01  1.87381315e-01\n",
      "  2.48689887e-01  3.09016994e-01  3.68124553e-01  4.25779292e-01\n",
      "  4.81753674e-01  5.35826795e-01  5.87785252e-01  6.37423990e-01\n",
      "  6.84547106e-01  7.28968627e-01  7.70513243e-01  8.09016994e-01\n",
      "  8.44327926e-01  8.76306680e-01  9.04827052e-01  9.29776486e-01\n",
      "  9.51056516e-01  9.68583161e-01  9.82287251e-01  9.92114701e-01\n",
      "  9.98026728e-01  1.00000000e+00  9.98026728e-01  9.92114701e-01\n",
      "  9.82287251e-01  9.68583161e-01  9.51056516e-01  9.29776486e-01\n",
      "  9.04827052e-01  8.76306680e-01  8.44327926e-01  8.09016994e-01\n",
      "  7.70513243e-01  7.28968627e-01  6.84547106e-01  6.37423990e-01\n",
      "  5.87785252e-01  5.35826795e-01  4.81753674e-01  4.25779292e-01\n",
      "  3.68124553e-01  3.09016994e-01  2.48689887e-01  1.87381315e-01\n",
      "  1.25333234e-01  6.27905195e-02 -2.45053156e-15 -6.27905195e-02\n",
      " -1.25333234e-01 -1.87381315e-01 -2.48689887e-01 -3.09016994e-01\n",
      " -3.68124553e-01 -4.25779292e-01 -4.81753674e-01 -5.35826795e-01\n",
      " -5.87785252e-01 -6.37423990e-01 -6.84547106e-01 -7.28968627e-01\n",
      " -7.70513243e-01 -8.09016994e-01 -8.44327926e-01 -8.76306680e-01\n",
      " -9.04827052e-01 -9.29776486e-01 -9.51056516e-01 -9.68583161e-01\n",
      " -9.82287251e-01 -9.92114701e-01 -9.98026728e-01 -1.00000000e+00\n",
      " -9.98026728e-01 -9.92114701e-01 -9.82287251e-01 -9.68583161e-01\n",
      " -9.51056516e-01 -9.29776486e-01 -9.04827052e-01 -8.76306680e-01\n",
      " -8.44327926e-01 -8.09016994e-01 -7.70513243e-01 -7.28968627e-01\n",
      " -6.84547106e-01 -6.37423990e-01 -5.87785252e-01 -5.35826795e-01\n",
      " -4.81753674e-01 -4.25779292e-01 -3.68124553e-01 -3.09016994e-01\n",
      " -2.48689887e-01 -1.87381315e-01 -1.25333234e-01 -6.27905195e-02\n",
      "  2.32806688e-15]\n"
     ]
    }
   ],
   "source": [
    "# Now, calculate the angles and their sines for the entire time series\n",
    "z = np.sin( t * angr )\n",
    "print(z)"
   ]
  },
  {
   "cell_type": "code",
   "execution_count": 12,
   "id": "ab9994c1-2115-4f58-81b5-14f7a76b8727",
   "metadata": {},
   "outputs": [
    {
     "data": {
      "text/plain": [
       "[<matplotlib.lines.Line2D at 0x295625bb910>]"
      ]
     },
     "execution_count": 12,
     "metadata": {},
     "output_type": "execute_result"
    },
    {
     "data": {
      "image/png": "[encoded data removed]",
      "text/plain": [
       "<Figure size 640x480 with 1 Axes>"
      ]
     },
     "metadata": {},
     "output_type": "display_data"
    }
   ],
   "source": [
    "# And plot it\n",
    "plt.plot( t, z )"
   ]
  },
  {
   "cell_type": "code",
   "execution_count": null,
   "id": "89ad61f2-520e-41f9-8a7f-8ab5d3fa6f45",
   "metadata": {},
   "outputs": [],
   "source": []
  }
 ],
 "metadata": {
  "kernelspec": {
   "display_name": "Python 3 (ipykernel)",
   "language": "python",
   "name": "python3"
  },
  "language_info": {
   "codemirror_mode": {
    "name": "ipython",
    "version": 3
   },
   "file_extension": ".py",
   "mimetype": "text/x-python",
   "name": "python",
   "nbconvert_exporter": "python",
   "pygments_lexer": "ipython3",
   "version": "3.10.15"
  }
 },
 "nbformat": 4,
 "nbformat_minor": 5
}
